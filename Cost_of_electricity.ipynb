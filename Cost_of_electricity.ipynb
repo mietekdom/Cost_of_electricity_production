{
  "nbformat": 4,
  "nbformat_minor": 0,
  "metadata": {
    "colab": {
      "name": "Cost_of_electricity.ipynb",
      "provenance": [],
      "collapsed_sections": [],
      "authorship_tag": "ABX9TyPeVQxFeRA38u1iR1Ywav+A",
      "include_colab_link": true
    },
    "kernelspec": {
      "name": "python3",
      "display_name": "Python 3"
    }
  },
  "cells": [
    {
      "cell_type": "markdown",
      "metadata": {
        "id": "view-in-github",
        "colab_type": "text"
      },
      "source": [
        "<a href=\"https://colab.research.google.com/github/mietekdom/Cost_of_electricity_production/blob/main/Cost_of_electricity.ipynb\" target=\"_parent\"><img src=\"https://colab.research.google.com/assets/colab-badge.svg\" alt=\"Open In Colab\"/></a>"
      ]
    },
    {
      "cell_type": "code",
      "metadata": {
        "id": "syl-pJmKjmlV"
      },
      "source": [
        "import pandas as pd"
      ],
      "execution_count": 7,
      "outputs": []
    },
    {
      "cell_type": "code",
      "metadata": {
        "id": "-Hb5bXx_lE5D"
      },
      "source": [
        "df = pd.read_excel('https://drive.google.com/file/d/1wZHAilR63R-lqjMggQi3souTOsSr8dxJ/view?usp=sharing/lcoe-database.xlsx')"
      ],
      "execution_count": null,
      "outputs": []
    }
  ]
}