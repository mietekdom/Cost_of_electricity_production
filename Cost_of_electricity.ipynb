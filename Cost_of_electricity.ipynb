{
  "nbformat": 4,
  "nbformat_minor": 0,
  "metadata": {
    "colab": {
      "name": "Cost_of_electricity.ipynb",
      "provenance": [],
      "collapsed_sections": [],
      "authorship_tag": "ABX9TyPW/qu/xgeg79mh9fCotjRo",
      "include_colab_link": true
    },
    "kernelspec": {
      "name": "python3",
      "display_name": "Python 3"
    }
  },
  "cells": [
    {
      "cell_type": "markdown",
      "metadata": {
        "id": "view-in-github",
        "colab_type": "text"
      },
      "source": [
        "<a href=\"https://colab.research.google.com/github/mietekdom/Cost_of_electricity_production/blob/main/Cost_of_electricity.ipynb\" target=\"_parent\"><img src=\"https://colab.research.google.com/assets/colab-badge.svg\" alt=\"Open In Colab\"/></a>"
      ]
    },
    {
      "cell_type": "code",
      "metadata": {
        "id": "syl-pJmKjmlV"
      },
      "source": [
        "import pandas as pd"
      ],
      "execution_count": 9,
      "outputs": []
    },
    {
      "cell_type": "code",
      "metadata": {
        "colab": {
          "base_uri": "https://localhost:8080/",
          "height": 206
        },
        "id": "-Hb5bXx_lE5D",
        "outputId": "ba83656f-f889-491b-f98c-3e00ba85a602"
      },
      "source": [
        "df = pd.read_csv('database.csv', sheet_name=)\n",
        "df.head()"
      ],
      "execution_count": 19,
      "outputs": [
        {
          "output_type": "execute_result",
          "data": {
            "text/html": [
              "<div>\n",
              "<style scoped>\n",
              "    .dataframe tbody tr th:only-of-type {\n",
              "        vertical-align: middle;\n",
              "    }\n",
              "\n",
              "    .dataframe tbody tr th {\n",
              "        vertical-align: top;\n",
              "    }\n",
              "\n",
              "    .dataframe thead th {\n",
              "        text-align: right;\n",
              "    }\n",
              "</style>\n",
              "<table border=\"1\" class=\"dataframe\">\n",
              "  <thead>\n",
              "    <tr style=\"text-align: right;\">\n",
              "      <th></th>\n",
              "      <th>Discount Rate</th>\n",
              "      <th>CAPEX</th>\n",
              "      <th>Capacity Factor</th>\n",
              "      <th>Economic Life</th>\n",
              "      <th>Capital recovery</th>\n",
              "      <th>Fixed O&amp;M cost</th>\n",
              "      <th>Heat Rate</th>\n",
              "      <th>Fuel Price</th>\n",
              "      <th>Variable O&amp;M cost</th>\n",
              "      <th>Levelized cost of electrcity (LCOE)</th>\n",
              "    </tr>\n",
              "  </thead>\n",
              "  <tbody>\n",
              "    <tr>\n",
              "      <th>0</th>\n",
              "      <td>NaN</td>\n",
              "      <td>$/kW</td>\n",
              "      <td>%</td>\n",
              "      <td>Year</td>\n",
              "      <td>factor</td>\n",
              "      <td>fraction of CAPEX</td>\n",
              "      <td>GJ/MWh</td>\n",
              "      <td>$/GJ</td>\n",
              "      <td>$/MWh</td>\n",
              "      <td>$/MWh</td>\n",
              "    </tr>\n",
              "    <tr>\n",
              "      <th>1</th>\n",
              "      <td>10%</td>\n",
              "      <td>6,068</td>\n",
              "      <td>65</td>\n",
              "      <td>20</td>\n",
              "      <td>0.12</td>\n",
              "      <td>0.029</td>\n",
              "      <td>11.0</td>\n",
              "      <td>0.9</td>\n",
              "      <td>5.4967</td>\n",
              "      <td>170.9</td>\n",
              "    </tr>\n",
              "    <tr>\n",
              "      <th>2</th>\n",
              "      <td>10%</td>\n",
              "      <td>6,068</td>\n",
              "      <td>65</td>\n",
              "      <td>30</td>\n",
              "      <td>0.11</td>\n",
              "      <td>0.029</td>\n",
              "      <td>11.0</td>\n",
              "      <td>0.9</td>\n",
              "      <td>5.4967</td>\n",
              "      <td>158.7</td>\n",
              "    </tr>\n",
              "    <tr>\n",
              "      <th>3</th>\n",
              "      <td>10%</td>\n",
              "      <td>6,068</td>\n",
              "      <td>70</td>\n",
              "      <td>20</td>\n",
              "      <td>0.12</td>\n",
              "      <td>0.029</td>\n",
              "      <td>11.0</td>\n",
              "      <td>0.9</td>\n",
              "      <td>5.4967</td>\n",
              "      <td>159.7</td>\n",
              "    </tr>\n",
              "    <tr>\n",
              "      <th>4</th>\n",
              "      <td>10%</td>\n",
              "      <td>6,068</td>\n",
              "      <td>70</td>\n",
              "      <td>30</td>\n",
              "      <td>0.11</td>\n",
              "      <td>0.029</td>\n",
              "      <td>11.0</td>\n",
              "      <td>0.9</td>\n",
              "      <td>5.4967</td>\n",
              "      <td>148.5</td>\n",
              "    </tr>\n",
              "  </tbody>\n",
              "</table>\n",
              "</div>"
            ],
            "text/plain": [
              "  Discount Rate  CAPEX  ... Variable O&M cost Levelized cost of electrcity (LCOE)\n",
              "0           NaN   $/kW  ...             $/MWh                               $/MWh\n",
              "1           10%  6,068  ...            5.4967                               170.9\n",
              "2           10%  6,068  ...            5.4967                               158.7\n",
              "3           10%  6,068  ...            5.4967                               159.7\n",
              "4           10%  6,068  ...            5.4967                               148.5\n",
              "\n",
              "[5 rows x 10 columns]"
            ]
          },
          "metadata": {
            "tags": []
          },
          "execution_count": 19
        }
      ]
    },
    {
      "cell_type": "code",
      "metadata": {
        "colab": {
          "base_uri": "https://localhost:8080/"
        },
        "id": "boMwsTHr2Jp5",
        "outputId": "15fb049f-bb9d-4778-cc42-d3edfa6ce9bb"
      },
      "source": [
        "df.info()"
      ],
      "execution_count": 20,
      "outputs": [
        {
          "output_type": "stream",
          "text": [
            "<class 'pandas.core.frame.DataFrame'>\n",
            "RangeIndex: 325 entries, 0 to 324\n",
            "Data columns (total 10 columns):\n",
            " #   Column                               Non-Null Count  Dtype \n",
            "---  ------                               --------------  ----- \n",
            " 0   Discount Rate                        324 non-null    object\n",
            " 1   CAPEX                                325 non-null    object\n",
            " 2   Capacity Factor                      325 non-null    object\n",
            " 3   Economic Life                        325 non-null    object\n",
            " 4   Capital recovery                     325 non-null    object\n",
            " 5   Fixed O&M cost                       325 non-null    object\n",
            " 6   Heat Rate                            325 non-null    object\n",
            " 7   Fuel Price                           325 non-null    object\n",
            " 8   Variable O&M cost                    325 non-null    object\n",
            " 9   Levelized cost of electrcity (LCOE)  325 non-null    object\n",
            "dtypes: object(10)\n",
            "memory usage: 25.5+ KB\n"
          ],
          "name": "stdout"
        }
      ]
    }
  ]
}